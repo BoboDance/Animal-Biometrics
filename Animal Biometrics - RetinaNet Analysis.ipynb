{
 "cells": [
  {
   "cell_type": "code",
   "execution_count": 1,
   "metadata": {},
   "outputs": [
    {
     "name": "stderr",
     "output_type": "stream",
     "text": [
      "Using TensorFlow backend.\n"
     ]
    }
   ],
   "source": [
    "%matplotlib inline\n",
    "\n",
    "# automatically reload modules when they have changed\n",
    "%load_ext autoreload\n",
    "%autoreload 2\n",
    "\n",
    "from vis.visualization import visualize_cam\n",
    "from vis.utils import utils\n",
    "\n",
    "import keras\n",
    "\n",
    "from keras_retinanet import models\n",
    "from keras_retinanet.utils.image import read_image_bgr, preprocess_image, resize_image\n",
    "from keras_retinanet.utils.visualization import draw_box, draw_caption\n",
    "from keras_retinanet.utils.colors import label_color\n",
    "\n",
    "import matplotlib.pyplot as plt\n",
    "import cv2\n",
    "import os\n",
    "import numpy as np\n",
    "import pandas as pd \n",
    "import time\n",
    "\n",
    "import tensorflow as tf\n",
    "\n",
    "def get_session():\n",
    "    config = tf.ConfigProto()\n",
    "    config.gpu_options.allow_growth = True\n",
    "#     config.gpu_options.per_process_gpu_memory_fraction = .7\n",
    "    return tf.Session(config=config)\n",
    "\n",
    "os.environ[\"CUDA_VISIBLE_DEVICES\"] = \"0\"\n",
    "\n",
    "keras.backend.tensorflow_backend.set_session(get_session())"
   ]
  },
  {
   "cell_type": "code",
   "execution_count": 2,
   "metadata": {},
   "outputs": [],
   "source": [
    "n_model = models.load_model(\"D:/RetinaNet_Snapshots/Monday_9_10_2018_inital/resnet50_csv_500.h5\",\n",
    "                     backbone_name='resnet50', convert=True)"
   ]
  },
  {
   "cell_type": "code",
   "execution_count": null,
   "metadata": {},
   "outputs": [],
   "source": [
    "n_model.summary()"
   ]
  },
  {
   "cell_type": "code",
   "execution_count": 3,
   "metadata": {},
   "outputs": [],
   "source": [
    "class_labels = pd.read_csv('U:\\\\PycharmProjects\\\\AnimalBiometrics\\\\data\\\\annotations\\\\class_mapping.csv', header=None).to_dict()[0]\n",
    "label_class = {v: k for k, v in class_labels.items()}"
   ]
  },
  {
   "cell_type": "code",
   "execution_count": 4,
   "metadata": {},
   "outputs": [],
   "source": [
    "images = []\n",
    "scales = []\n",
    "draws = []\n",
    "labels_test = []\n",
    "path = 'U:\\\\PycharmProjects\\\\AnimalBiometrics\\\\data\\\\Clouded_leopard_ID\\\\test_cleaned_cropped\\\\'\n",
    "\n",
    "# load all test images because they are only 114\n",
    "for subdir, dirs, files in os.walk(path): \n",
    "    if dirs == []:\n",
    "        if len(files) < 0: \n",
    "            continue\n",
    "        for elem in files:\n",
    "            if elem == 'Thumbs.db': continue\n",
    "        #     image = read_image_bgr('U:\\\\PycharmProjects\\\\AnimalBiometrics\\\\data\\\\\n",
    "        #     Clouded_leopard_ID\\\\test_cleaned_cropped\\\\DFR_2_Male\\\\SDC64__PC071__2014-12-23__04-17-17B.JPG')\n",
    "            labels_test.append(label_class[subdir[subdir.rfind('\\\\')+1:]])\n",
    "            image = read_image_bgr(subdir + '\\\\' + elem)\n",
    "            draw = image.copy()\n",
    "            draw = cv2.cvtColor(draw, cv2.COLOR_BGR2RGB)\n",
    "            draws.append(draw)\n",
    "            image = preprocess_image(image)\n",
    "            image, scale = resize_image(image)\n",
    "            images.append(image)\n",
    "            scales.append(scale)\n",
    "        \n",
    "images = np.array(images)\n",
    "scales = np.array(scales)\n",
    "draws = np.array(draws)\n",
    "labels_test = np.array(labels_test)"
   ]
  },
  {
   "cell_type": "code",
   "execution_count": 5,
   "metadata": {},
   "outputs": [
    {
     "name": "stdout",
     "output_type": "stream",
     "text": [
      "processing time:  11.830236673355103\n"
     ]
    }
   ],
   "source": [
    "start = time.time()\n",
    "boxes, scores, labels = [], [], []\n",
    "# boxes, scores, labels = n_model.predict_on_batch(images[:2])\n",
    "for elem in images:\n",
    "    b, s, l = n_model.predict_on_batch(np.expand_dims(elem, axis=0))\n",
    "    boxes.append(b)\n",
    "    scores.append(s)\n",
    "    labels.append(l)\n",
    "    \n",
    "print(\"processing time: \", time.time() - start)\n",
    "\n",
    "boxes = np.squeeze(np.array(boxes), axis=1)\n",
    "scores = np.squeeze(np.array(scores), axis=1)\n",
    "labels = np.squeeze(np.array(labels), axis=1)"
   ]
  },
  {
   "cell_type": "code",
   "execution_count": 6,
   "metadata": {},
   "outputs": [
    {
     "name": "stdout",
     "output_type": "stream",
     "text": [
      "(1441, 2048, 3)\n",
      "(800, 1137, 3)\n",
      "(300, 4)\n",
      "[1441.      2048.02125    5.40375]\n",
      "[2595.60125 3688.96       5.40375]\n",
      "[540.375   7.205]\n"
     ]
    }
   ],
   "source": [
    "print(draw.shape)\n",
    "print(image.shape)\n",
    "print(boxes[0].shape)\n",
    "print(image.shape/scales[0])\n",
    "print(draw.shape/scales[0])\n",
    "print(boxes[0].shape/scales[0])"
   ]
  },
  {
   "cell_type": "code",
   "execution_count": 19,
   "metadata": {},
   "outputs": [],
   "source": [
    "import collections\n",
    "import itertools\n",
    "\n",
    "def plot_confusion_matrix(cm, \n",
    "                          class_dict,\n",
    "                          normalize=False,\n",
    "                          title='Confusion matrix',\n",
    "                          cmap=plt.cm.Blues,\n",
    "                          font_size = 25):\n",
    "    \"\"\"\n",
    "    This function prints and plots the confusion matrix.\n",
    "    Normalization can be applied by setting `normalize=True`.\n",
    "    \"\"\"\n",
    "    \n",
    "    if normalize:\n",
    "        cm = cm.astype('float') / cm.sum(axis=1)[:, np.newaxis]\n",
    "        cm[np.isnan(cm)] = 0.\n",
    "        print(\"Normalized confusion matrix\")\n",
    "    else:\n",
    "        print('Confusion matrix, without normalization')\n",
    "\n",
    "#     print(cm)\n",
    "    plt.figure(figsize=(15,10))\n",
    "    plt.imshow(cm, interpolation='nearest', cmap=cmap)\n",
    "    plt.title(title)\n",
    "    plt.colorbar()\n",
    "    ordered_classes = collections.OrderedDict(sorted(class_dict.items()))\n",
    "    tick_marks = np.arange(len(ordered_classes.keys()))\n",
    "    plt.xticks(tick_marks, ordered_classes.values(), rotation=45, fontsize=font_size)\n",
    "    plt.yticks(tick_marks, ordered_classes.values(), size=font_size)\n",
    "\n",
    "    fmt = '.2f' if normalize else 'd'\n",
    "    thresh = cm.max() / 2.\n",
    "    if len(class_dict.keys()) < 10:\n",
    "        for i, j in itertools.product(range(cm.shape[0]), range(cm.shape[1])):\n",
    "            plt.text(j, i, format(cm[i, j], fmt),\n",
    "                     horizontalalignment=\"center\",\n",
    "                     color=\"white\" if cm[i, j] > thresh else \"black\",\n",
    "                     size=font_size-5)\n",
    "\n",
    "    plt.ylabel('True label', size=\"large\")\n",
    "    plt.xlabel('Predicted label', size=\"large\")\n",
    "    plt.tight_layout()\n",
    "    plt.savefig('conf_mat')\n"
   ]
  },
  {
   "cell_type": "code",
   "execution_count": 8,
   "metadata": {},
   "outputs": [],
   "source": [
    "true_names = np.array([class_labels[elem] for elem in labels_test])\n",
    "prediction_names = np.array([class_labels[elem] for elem in labels[:,0]])"
   ]
  },
  {
   "cell_type": "code",
   "execution_count": 9,
   "metadata": {},
   "outputs": [
    {
     "data": {
      "text/plain": [
       "0.8596491228070176"
      ]
     },
     "execution_count": 9,
     "metadata": {},
     "output_type": "execute_result"
    }
   ],
   "source": [
    "from sklearn.metrics import accuracy_score\n",
    "accuracy_score(true_names, prediction_names)"
   ]
  },
  {
   "cell_type": "code",
   "execution_count": 10,
   "metadata": {
    "scrolled": true
   },
   "outputs": [
    {
     "name": "stdout",
     "output_type": "stream",
     "text": [
      "Normalized confusion matrix\n"
     ]
    },
    {
     "name": "stderr",
     "output_type": "stream",
     "text": [
      "C:\\Users\\fotto\\AppData\\Local\\conda\\conda\\envs\\tensorflow\\lib\\site-packages\\sklearn\\metrics\\classification.py:1135: UndefinedMetricWarning: Precision and F-score are ill-defined and being set to 0.0 in labels with no predicted samples.\n",
      "  'precision', 'predicted', average, warn_for)\n"
     ]
    },
    {
     "name": "stdout",
     "output_type": "stream",
     "text": [
      "               precision    recall  f1-score   support\n",
      "\n",
      "DFR_10_Female       1.00      0.67      0.80         3\n",
      "DFR_11_Female       0.50      0.67      0.57         3\n",
      "   DFR_1_Male       1.00      1.00      1.00         5\n",
      "   DFR_2_Male       0.82      0.95      0.88        19\n",
      "   DFR_3_Male       0.00      0.00      0.00         1\n",
      "   DFR_4_Male       1.00      1.00      1.00         3\n",
      "   DFR_5_Male       0.75      1.00      0.86         3\n",
      "   DFR_6_Male       0.58      0.78      0.67         9\n",
      " DFR_7_Female       1.00      1.00      1.00         4\n",
      " DFR_8_Female       1.00      0.75      0.86         4\n",
      " DFR_9_Female       1.00      0.67      0.80         3\n",
      "DFR_Unknown_1       0.00      0.00      0.00         1\n",
      "DFR_Unknown_2       1.00      1.00      1.00         1\n",
      "   KFR_1_Male       1.00      0.67      0.80         3\n",
      "   KFR_2_Male       1.00      1.00      1.00         3\n",
      "   KFR_3_Male       1.00      0.75      0.86         4\n",
      "   KFR_4_Male       1.00      1.00      1.00         3\n",
      "   KFR_5_Male       0.75      0.75      0.75         4\n",
      "   KFR_6_Male       1.00      1.00      1.00         2\n",
      " KFR_7_female       1.00      0.50      0.67         2\n",
      " KFR_8_Female       1.00      1.00      1.00         1\n",
      "KFR_Unknown_1       0.75      1.00      0.86         3\n",
      "   TFR_1_Male       1.00      1.00      1.00         8\n",
      "   TFR_2_Male       1.00      1.00      1.00         3\n",
      "   TFR_3_Male       0.90      0.90      0.90        10\n",
      "   TFR_4_Male       1.00      0.75      0.86         4\n",
      " TFR_5_Female       1.00      0.50      0.67         2\n",
      "TFR_Unknown_1       1.00      1.00      1.00         2\n",
      "TFR_Unknown_2       0.50      1.00      0.67         1\n",
      "\n",
      "  avg / total       0.87      0.86      0.85       114\n",
      "\n"
     ]
    },
    {
     "data": {
      "image/png": "[encoded data removed]",
      "text/plain": [
       "<Figure size 1080x720 with 2 Axes>"
      ]
     },
     "metadata": {},
     "output_type": "display_data"
    }
   ],
   "source": [
    "from sklearn.metrics import confusion_matrix, classification_report\n",
    "\n",
    "cnf_matrix = confusion_matrix(true_names, prediction_names, labels=list(class_labels.values()))\n",
    "cnf_matrix[np.isnan(cnf_matrix)] = 0\n",
    "\n",
    "plot_confusion_matrix(cnf_matrix, class_dict=class_labels, title='Confusion matrix',normalize=True)\n",
    "print(classification_report(true_names, prediction_names))"
   ]
  },
  {
   "cell_type": "code",
   "execution_count": 11,
   "metadata": {},
   "outputs": [],
   "source": [
    "def get_data_dist(img_path=\"U:/PycharmProjects/AnimalBiometrics/data/Clouded_leopard_ID/train_cleaned_cropped\"):\n",
    "    res = {}\n",
    "    for subdir, dirs, files in os.walk(img_path):\n",
    "#         if 'coarse' not in subdir.lower():\n",
    "#             continue\n",
    "        if dirs == []:\n",
    "            idx = subdir.rfind(\"\\\\\")+1\n",
    "            res[subdir[idx:]]=len(files)    \n",
    "            \n",
    "    return res"
   ]
  },
  {
   "cell_type": "code",
   "execution_count": 12,
   "metadata": {},
   "outputs": [],
   "source": [
    "def simplify_labels(true, pred, count_dict):\n",
    "    true_copy = np.copy(true)\n",
    "    pred_copy = np.copy(pred)\n",
    "    class_dict= {}\n",
    "    class_count = collections.defaultdict(int)\n",
    "        \n",
    "    for animal, count in count_dict.items():\n",
    "            \n",
    "        label_idx = (true_copy == animal).nonzero()[0]\n",
    "        pred_idx = (pred_copy == animal).nonzero()[0]\n",
    "\n",
    "        if count >= 15:\n",
    "            top_level = 'Scarce >=15'\n",
    "            key = 1\n",
    "        elif count >= 10:\n",
    "            top_level = 'Rare >=10'\n",
    "            key = 2\n",
    "        elif count >= 5:\n",
    "            top_level = 'Very Rare >=5'\n",
    "            key = 3\n",
    "        else:\n",
    "            top_level = 'Extremely Rare <5'\n",
    "            key = 4\n",
    "            \n",
    "        if key not in class_dict.keys():\n",
    "            class_dict[key] = top_level\n",
    "        class_count[key] += 1\n",
    "        \n",
    "        true_copy[label_idx] = top_level\n",
    "        pred_copy[pred_idx] = top_level\n",
    "    print(class_count)\n",
    "    return true_copy, pred_copy, class_dict"
   ]
  },
  {
   "cell_type": "code",
   "execution_count": 13,
   "metadata": {},
   "outputs": [],
   "source": [
    "import collections\n",
    "\n",
    "dist_res = get_data_dist(\"U:/PycharmProjects/AnimalBiometrics/data/Clouded_leopard_ID/train_cleaned_cropped\")\n",
    "res = collections.OrderedDict(sorted(dist_res.items()))"
   ]
  },
  {
   "cell_type": "code",
   "execution_count": 27,
   "metadata": {
    "scrolled": true
   },
   "outputs": [],
   "source": [
    "import matplotlib\n",
    "\n",
    "plt.figure(0, figsize=(15,20))\n",
    "plt.barh(list(res.keys()), list(res.values()))\n",
    "# plt.xticks(rotation='vertical')\n",
    "plt.vlines(15, -1, 29, label='Scarce')\n",
    "plt.vlines(10, -1, 29, label='Rare')\n",
    "plt.vlines(5, -1, 29, label='Very Rare')\n",
    "# plt.ylim(ymax=1000)\n",
    "# plt.legend()\n",
    "\n",
    "sorted_res_value = collections.OrderedDict(sorted(res.items(), key=lambda kv: kv[1]))\n",
    "\n",
    "font = {'family' : 'normal',\n",
    "        'weight' : 'normal',\n",
    "        'size'   : 22}\n",
    "\n",
    "matplotlib.rc('font', **font)\n",
    "\n",
    "plt.figure(1, figsize=(15,20))\n",
    "plt.barh(list(sorted_res_value.keys()), list(sorted_res_value.values()))\n",
    "# plt.xticks(rotation='vertical')\n",
    "# plt.ylim(ymax=1000)\n",
    "# plt.vlines(15, -1, 29, label='Scarce')\n",
    "# plt.vlines(10, -1, 29, label='Rare')\n",
    "# plt.vlines(5, -1, 29, label='Very Rare')\n",
    "# plt.legend()"
   ]
  },
  {
   "cell_type": "code",
   "execution_count": 15,
   "metadata": {},
   "outputs": [
    {
     "name": "stdout",
     "output_type": "stream",
     "text": [
      "defaultdict(<class 'int'>, {1: 6, 2: 8, 3: 9, 4: 6})\n"
     ]
    }
   ],
   "source": [
    "data_array_names_simple, prediction_heat_names_simple, class_dict_simple = simplify_labels(true_names, prediction_names, res)"
   ]
  },
  {
   "cell_type": "code",
   "execution_count": 28,
   "metadata": {},
   "outputs": [],
   "source": [
    "cnf_matrix = confusion_matrix(data_array_names_simple, prediction_heat_names_simple, labels=list(class_dict_simple.values()))\n",
    "cnf_matrix[np.isnan(cnf_matrix)] = 0\n",
    "np.set_printoptions(precision=2)\n",
    "\n",
    "plot_confusion_matrix(cnf_matrix, class_dict=class_dict_simple, title='Confusion matrix',normalize=True)\n",
    "print(classification_report(data_array_names_simple, prediction_heat_names_simple))"
   ]
  },
  {
   "cell_type": "code",
   "execution_count": 44,
   "metadata": {},
   "outputs": [],
   "source": [
    "# correct for image scale\n",
    "boxes /= np.array(scales)[:, None, None]"
   ]
  },
  {
   "cell_type": "code",
   "execution_count": 42,
   "metadata": {
    "scrolled": true
   },
   "outputs": [],
   "source": [
    "def add_detections_to_images(boxes, scores, labels, visualize=False):\n",
    "    total = len(labels)\n",
    "    for i, (box2, score2, label2) in enumerate(zip(boxes, scores, labels)):\n",
    "    #     for box, score, label in zip(box2, score2, label2):\n",
    "\n",
    "        box, score, label = box2[0], score2[0], label2[0]\n",
    "\n",
    "        # scores are sorted so we can break\n",
    "    #     if score < 0.05:\n",
    "    #         break\n",
    "\n",
    "        color = label_color(label)\n",
    "\n",
    "        box = box.astype(int)\n",
    "        draw_box(draws[i], box, color=color)\n",
    "\n",
    "        caption = \"{} {:.3f}\".format(class_labels[label], score)\n",
    "    #     draw_caption(draw, b, caption)\n",
    "        b = np.array(box).astype(int)\n",
    "        cv2.putText(draws[i], caption, (b[0], b[1] - 10), cv2.FONT_HERSHEY_PLAIN, 4, (0, 0, 0), 2)\n",
    "        cv2.putText(draws[i], caption, (b[0], b[1] - 10), cv2.FONT_HERSHEY_PLAIN, 4, (255, 255, 255), 2)\n",
    "        \n",
    "        if visualize:\n",
    "            print(label, caption)\n",
    "            plt.figure(figsize=(15, 15))\n",
    "            plt.axis('off')\n",
    "            plt.imshow(draws[i])\n",
    "            plt.show()\n",
    "        print('Image {}/{}'.format(i+1, total))"
   ]
  },
  {
   "cell_type": "code",
   "execution_count": 43,
   "metadata": {},
   "outputs": [
    {
     "name": "stdout",
     "output_type": "stream",
     "text": [
      "Image 1/114\n",
      "Image 2/114\n",
      "Image 3/114\n",
      "Image 4/114\n",
      "Image 5/114\n",
      "Image 6/114\n",
      "Image 7/114\n",
      "Image 8/114\n",
      "Image 9/114\n",
      "Image 10/114\n",
      "Image 11/114\n",
      "Image 12/114\n",
      "Image 13/114\n",
      "Image 14/114\n",
      "Image 15/114\n",
      "Image 16/114\n",
      "Image 17/114\n",
      "Image 18/114\n",
      "Image 19/114\n",
      "Image 20/114\n",
      "Image 21/114\n",
      "Image 22/114\n",
      "Image 23/114\n",
      "Image 24/114\n",
      "Image 25/114\n",
      "Image 26/114\n",
      "Image 27/114\n",
      "Image 28/114\n",
      "Image 29/114\n",
      "Image 30/114\n",
      "Image 31/114\n",
      "Image 32/114\n",
      "Image 33/114\n",
      "Image 34/114\n",
      "Image 35/114\n",
      "Image 36/114\n",
      "Image 37/114\n",
      "Image 38/114\n",
      "Image 39/114\n",
      "Image 40/114\n",
      "Image 41/114\n",
      "Image 42/114\n",
      "Image 43/114\n",
      "Image 44/114\n",
      "Image 45/114\n",
      "Image 46/114\n",
      "Image 47/114\n",
      "Image 48/114\n",
      "Image 49/114\n",
      "Image 50/114\n",
      "Image 51/114\n",
      "Image 52/114\n",
      "Image 53/114\n",
      "Image 54/114\n",
      "Image 55/114\n",
      "Image 56/114\n",
      "Image 57/114\n",
      "Image 58/114\n",
      "Image 59/114\n",
      "Image 60/114\n",
      "Image 61/114\n",
      "Image 62/114\n",
      "Image 63/114\n",
      "Image 64/114\n",
      "Image 65/114\n",
      "Image 66/114\n",
      "Image 67/114\n",
      "Image 68/114\n",
      "Image 69/114\n",
      "Image 70/114\n",
      "Image 71/114\n",
      "Image 72/114\n",
      "Image 73/114\n",
      "Image 74/114\n",
      "Image 75/114\n",
      "Image 76/114\n",
      "Image 77/114\n",
      "Image 78/114\n",
      "Image 79/114\n",
      "Image 80/114\n",
      "Image 81/114\n",
      "Image 82/114\n",
      "Image 83/114\n",
      "Image 84/114\n",
      "Image 85/114\n",
      "Image 86/114\n",
      "Image 87/114\n",
      "Image 88/114\n",
      "Image 89/114\n",
      "Image 90/114\n",
      "Image 91/114\n",
      "Image 92/114\n",
      "Image 93/114\n",
      "Image 94/114\n",
      "Image 95/114\n",
      "Image 96/114\n",
      "Image 97/114\n",
      "Image 98/114\n",
      "Image 99/114\n",
      "Image 100/114\n",
      "Image 101/114\n",
      "Image 102/114\n",
      "Image 103/114\n",
      "Image 104/114\n",
      "Image 105/114\n",
      "Image 106/114\n",
      "Image 107/114\n",
      "Image 108/114\n",
      "Image 109/114\n",
      "Image 110/114\n",
      "Image 111/114\n",
      "Image 112/114\n",
      "Image 113/114\n",
      "Image 114/114\n"
     ]
    }
   ],
   "source": [
    "add_detections_to_images(boxes, scores, labels, visualize=False)"
   ]
  },
  {
   "cell_type": "code",
   "execution_count": 44,
   "metadata": {},
   "outputs": [],
   "source": [
    "import scipy.ndimage as ndimage\n",
    "from vis.visualization import visualize_saliency\n",
    "import matplotlib.gridspec as gridspec\n",
    "\n",
    "def compute_saliency_map(model, array, target_class, layer_idx=-1):\n",
    "    grads = visualize_saliency(model, layer_idx, filter_indices=target_class, seed_input=array)\n",
    "    return ndimage.gaussian_filter(grads, sigma=5) \n",
    "\n",
    "def render_img_on_grid(img, pos, grid):\n",
    "    ax = plt.subplot(grid[pos])\n",
    "    ax.imshow(img)\n",
    "    ax.set_xticks([])\n",
    "    ax.set_yticks([])\n",
    "    return ax\n",
    "\n",
    "def show_side_by_side(img, saliency_map, pred, true):\n",
    "    img = cv2.resize(img, (saliency_map.shape[1],saliency_map.shape[0]))\n",
    "    fig = plt.figure(figsize=(20,10))\n",
    "    props = dict(boxstyle='round', facecolor='wheat', alpha=0.5)\n",
    "    grid = gridspec.GridSpec(1, 2, wspace=0.)\n",
    "    render_img_on_grid(img, 0, grid)\n",
    "    text = 'True: ' + true\n",
    "    plt.title(text, size=\"xx-large\")\n",
    "    ax = render_img_on_grid(img, 1, grid)\n",
    "    ax.imshow(saliency_map, alpha=.7)\n",
    "    text = 'Pred: ' + pred\n",
    "    ax.set_title(text, size=\"xx-large\")\n",
    "    plt.show()\n",
    "    plt.close(fig)"
   ]
  },
  {
   "cell_type": "code",
   "execution_count": 45,
   "metadata": {},
   "outputs": [],
   "source": [
    "from matplotlib.pyplot import imshow\n",
    "def print_comparison_v2(indices, images, predictions, labels, trained_model, draws, activation_layer='predictions'):\n",
    "    \n",
    "#     trained_model.layers[utils.find_layer_idx(trained_model, \"predictions\")].activation = keras.activations.linear\n",
    "    \n",
    "    for i, img_number in enumerate(indices):\n",
    "        saliency_map = compute_saliency_map(trained_model, array=images[img_number],\n",
    "                                            target_class=[labels[img_number]], \n",
    "                                            layer_idx=utils.find_layer_idx(trained_model, activation_layer))\n",
    "        show_side_by_side(draws[img_number], saliency_map, class_labels[predictions[img_number]], \n",
    "                          class_labels[labels[img_number]])"
   ]
  },
  {
   "cell_type": "code",
   "execution_count": 46,
   "metadata": {},
   "outputs": [],
   "source": [
    "correct_pred = (prediction_names == true_names).nonzero()[0]\n",
    "wrong_pred = (prediction_names != true_names).nonzero()[0]"
   ]
  },
  {
   "cell_type": "code",
   "execution_count": 29,
   "metadata": {
    "scrolled": true
   },
   "outputs": [],
   "source": [
    "print_comparison_v2(wrong_pred, images, labels[:,0], labels_test, n_model, draws, 'classification')"
   ]
  },
  {
   "cell_type": "code",
   "execution_count": 30,
   "metadata": {
    "scrolled": false
   },
   "outputs": [],
   "source": [
    "print_comparison_v2(correct_pred, images, labels[:,0], labels_test, n_model, draws, 'classification')"
   ]
  }
 ],
 "metadata": {
  "kernelspec": {
   "display_name": "Python 3",
   "language": "python",
   "name": "python3"
  },
  "language_info": {
   "codemirror_mode": {
    "name": "ipython",
    "version": 3
   },
   "file_extension": ".py",
   "mimetype": "text/x-python",
   "name": "python",
   "nbconvert_exporter": "python",
   "pygments_lexer": "ipython3",
   "version": "3.5.5"
  }
 },
 "nbformat": 4,
 "nbformat_minor": 2
}
